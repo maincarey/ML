{
  "nbformat": 4,
  "nbformat_minor": 0,
  "metadata": {
    "colab": {
      "name": "Decisiontree.ipynb",
      "version": "0.3.2",
      "provenance": [],
      "collapsed_sections": [],
      "include_colab_link": true
    },
    "kernelspec": {
      "name": "python3",
      "display_name": "Python 3"
    }
  },
  "cells": [
    {
      "cell_type": "markdown",
      "metadata": {
        "id": "view-in-github",
        "colab_type": "text"
      },
      "source": [
        "<a href=\"https://colab.research.google.com/github/maincarey/ML/blob/master/Decisiontree.ipynb\" target=\"_parent\"><img src=\"https://colab.research.google.com/assets/colab-badge.svg\" alt=\"Open In Colab\"/></a>"
      ]
    },
    {
      "cell_type": "code",
      "metadata": {
        "id": "Zb_XBTvsLIkW",
        "colab_type": "code",
        "colab": {}
      },
      "source": [
        "import pandas as pd"
      ],
      "execution_count": 0,
      "outputs": []
    },
    {
      "cell_type": "code",
      "metadata": {
        "id": "u06EL2GcQPiy",
        "colab_type": "code",
        "outputId": "7133daea-27dc-42d5-84a1-74a52156f6c5",
        "colab": {
          "base_uri": "https://localhost:8080/",
          "height": 202
        }
      },
      "source": [
        "df = pd.read_csv(\"/content/sample_data/salaries.csv\")\n",
        "df.head()"
      ],
      "execution_count": 0,
      "outputs": [
        {
          "output_type": "execute_result",
          "data": {
            "text/html": [
              "<div>\n",
              "<style scoped>\n",
              "    .dataframe tbody tr th:only-of-type {\n",
              "        vertical-align: middle;\n",
              "    }\n",
              "\n",
              "    .dataframe tbody tr th {\n",
              "        vertical-align: top;\n",
              "    }\n",
              "\n",
              "    .dataframe thead th {\n",
              "        text-align: right;\n",
              "    }\n",
              "</style>\n",
              "<table border=\"1\" class=\"dataframe\">\n",
              "  <thead>\n",
              "    <tr style=\"text-align: right;\">\n",
              "      <th></th>\n",
              "      <th>company</th>\n",
              "      <th>job</th>\n",
              "      <th>degree</th>\n",
              "      <th>salary_more_then_100k</th>\n",
              "    </tr>\n",
              "  </thead>\n",
              "  <tbody>\n",
              "    <tr>\n",
              "      <th>0</th>\n",
              "      <td>google</td>\n",
              "      <td>sales executive</td>\n",
              "      <td>bachelors</td>\n",
              "      <td>0</td>\n",
              "    </tr>\n",
              "    <tr>\n",
              "      <th>1</th>\n",
              "      <td>google</td>\n",
              "      <td>sales executive</td>\n",
              "      <td>masters</td>\n",
              "      <td>0</td>\n",
              "    </tr>\n",
              "    <tr>\n",
              "      <th>2</th>\n",
              "      <td>google</td>\n",
              "      <td>business manager</td>\n",
              "      <td>bachelors</td>\n",
              "      <td>1</td>\n",
              "    </tr>\n",
              "    <tr>\n",
              "      <th>3</th>\n",
              "      <td>google</td>\n",
              "      <td>business manager</td>\n",
              "      <td>masters</td>\n",
              "      <td>1</td>\n",
              "    </tr>\n",
              "    <tr>\n",
              "      <th>4</th>\n",
              "      <td>google</td>\n",
              "      <td>computer programmer</td>\n",
              "      <td>bachelors</td>\n",
              "      <td>0</td>\n",
              "    </tr>\n",
              "  </tbody>\n",
              "</table>\n",
              "</div>"
            ],
            "text/plain": [
              "  company                  job     degree  salary_more_then_100k\n",
              "0  google      sales executive  bachelors                      0\n",
              "1  google      sales executive    masters                      0\n",
              "2  google     business manager  bachelors                      1\n",
              "3  google     business manager    masters                      1\n",
              "4  google  computer programmer  bachelors                      0"
            ]
          },
          "metadata": {
            "tags": []
          },
          "execution_count": 2
        }
      ]
    },
    {
      "cell_type": "code",
      "metadata": {
        "id": "t5r9GPijQTus",
        "colab_type": "code",
        "colab": {}
      },
      "source": [
        "# this is target variable\n",
        "inputs = df.drop('salary_more_then_100k',axis='columns')"
      ],
      "execution_count": 0,
      "outputs": []
    },
    {
      "cell_type": "code",
      "metadata": {
        "id": "6lQrTYr_QlrA",
        "colab_type": "code",
        "colab": {}
      },
      "source": [
        "\n",
        "target = df['salary_more_then_100k']"
      ],
      "execution_count": 0,
      "outputs": []
    },
    {
      "cell_type": "code",
      "metadata": {
        "id": "3_M2kdhLQqNc",
        "colab_type": "code",
        "outputId": "d630999c-81de-4819-e3ab-861db291ff3c",
        "colab": {
          "base_uri": "https://localhost:8080/",
          "height": 312
        }
      },
      "source": [
        "target"
      ],
      "execution_count": 0,
      "outputs": [
        {
          "output_type": "execute_result",
          "data": {
            "text/plain": [
              "0     0\n",
              "1     0\n",
              "2     1\n",
              "3     1\n",
              "4     0\n",
              "5     1\n",
              "6     0\n",
              "7     0\n",
              "8     0\n",
              "9     1\n",
              "10    1\n",
              "11    1\n",
              "12    1\n",
              "13    1\n",
              "14    1\n",
              "15    1\n",
              "Name: salary_more_then_100k, dtype: int64"
            ]
          },
          "metadata": {
            "tags": []
          },
          "execution_count": 5
        }
      ]
    },
    {
      "cell_type": "code",
      "metadata": {
        "id": "xS0yCfRdQsRL",
        "colab_type": "code",
        "colab": {}
      },
      "source": [
        "# get rid of text for columns company job and degree need to create numbers for values\n",
        "from sklearn.preprocessing import LabelEncoder\n",
        "le_company = LabelEncoder()\n",
        "le_job = LabelEncoder()\n",
        "le_degree = LabelEncoder()"
      ],
      "execution_count": 0,
      "outputs": []
    },
    {
      "cell_type": "code",
      "metadata": {
        "id": "eGyNkWU0RAc1",
        "colab_type": "code",
        "outputId": "a3ac658b-3c08-4967-bf28-6663f62395e3",
        "colab": {
          "base_uri": "https://localhost:8080/",
          "height": 202
        }
      },
      "source": [
        "# create extra columns by using fit and transform\n",
        "inputs['company_n'] = le_company.fit_transform(inputs['company'])\n",
        "inputs['job_n'] = le_job.fit_transform(inputs['job'])\n",
        "inputs['degree_n'] = le_degree.fit_transform(inputs['degree'])\n",
        "inputs.head()"
      ],
      "execution_count": 0,
      "outputs": [
        {
          "output_type": "execute_result",
          "data": {
            "text/html": [
              "<div>\n",
              "<style scoped>\n",
              "    .dataframe tbody tr th:only-of-type {\n",
              "        vertical-align: middle;\n",
              "    }\n",
              "\n",
              "    .dataframe tbody tr th {\n",
              "        vertical-align: top;\n",
              "    }\n",
              "\n",
              "    .dataframe thead th {\n",
              "        text-align: right;\n",
              "    }\n",
              "</style>\n",
              "<table border=\"1\" class=\"dataframe\">\n",
              "  <thead>\n",
              "    <tr style=\"text-align: right;\">\n",
              "      <th></th>\n",
              "      <th>company</th>\n",
              "      <th>job</th>\n",
              "      <th>degree</th>\n",
              "      <th>company_n</th>\n",
              "      <th>job_n</th>\n",
              "      <th>degree_n</th>\n",
              "    </tr>\n",
              "  </thead>\n",
              "  <tbody>\n",
              "    <tr>\n",
              "      <th>0</th>\n",
              "      <td>google</td>\n",
              "      <td>sales executive</td>\n",
              "      <td>bachelors</td>\n",
              "      <td>2</td>\n",
              "      <td>2</td>\n",
              "      <td>0</td>\n",
              "    </tr>\n",
              "    <tr>\n",
              "      <th>1</th>\n",
              "      <td>google</td>\n",
              "      <td>sales executive</td>\n",
              "      <td>masters</td>\n",
              "      <td>2</td>\n",
              "      <td>2</td>\n",
              "      <td>1</td>\n",
              "    </tr>\n",
              "    <tr>\n",
              "      <th>2</th>\n",
              "      <td>google</td>\n",
              "      <td>business manager</td>\n",
              "      <td>bachelors</td>\n",
              "      <td>2</td>\n",
              "      <td>0</td>\n",
              "      <td>0</td>\n",
              "    </tr>\n",
              "    <tr>\n",
              "      <th>3</th>\n",
              "      <td>google</td>\n",
              "      <td>business manager</td>\n",
              "      <td>masters</td>\n",
              "      <td>2</td>\n",
              "      <td>0</td>\n",
              "      <td>1</td>\n",
              "    </tr>\n",
              "    <tr>\n",
              "      <th>4</th>\n",
              "      <td>google</td>\n",
              "      <td>computer programmer</td>\n",
              "      <td>bachelors</td>\n",
              "      <td>2</td>\n",
              "      <td>1</td>\n",
              "      <td>0</td>\n",
              "    </tr>\n",
              "  </tbody>\n",
              "</table>\n",
              "</div>"
            ],
            "text/plain": [
              "  company                  job     degree  company_n  job_n  degree_n\n",
              "0  google      sales executive  bachelors          2      2         0\n",
              "1  google      sales executive    masters          2      2         1\n",
              "2  google     business manager  bachelors          2      0         0\n",
              "3  google     business manager    masters          2      0         1\n",
              "4  google  computer programmer  bachelors          2      1         0"
            ]
          },
          "metadata": {
            "tags": []
          },
          "execution_count": 8
        }
      ]
    },
    {
      "cell_type": "code",
      "metadata": {
        "id": "UCXAmTVYRPWW",
        "colab_type": "code",
        "colab": {}
      },
      "source": [
        "# drop the text columns hold in inputs_n\n",
        "inputs_n = inputs.drop(['company','job','degree'],axis='columns')"
      ],
      "execution_count": 0,
      "outputs": []
    },
    {
      "cell_type": "code",
      "metadata": {
        "id": "J5myAdKMRaxv",
        "colab_type": "code",
        "outputId": "e719bb66-a4f0-45e3-d2c8-0451572ee794",
        "colab": {
          "base_uri": "https://localhost:8080/",
          "height": 202
        }
      },
      "source": [
        "# google is 2   abc phara 0 fb 1   - you can see this from raw data cause it in the same order\n",
        "inputs.head()"
      ],
      "execution_count": 0,
      "outputs": [
        {
          "output_type": "execute_result",
          "data": {
            "text/html": [
              "<div>\n",
              "<style scoped>\n",
              "    .dataframe tbody tr th:only-of-type {\n",
              "        vertical-align: middle;\n",
              "    }\n",
              "\n",
              "    .dataframe tbody tr th {\n",
              "        vertical-align: top;\n",
              "    }\n",
              "\n",
              "    .dataframe thead th {\n",
              "        text-align: right;\n",
              "    }\n",
              "</style>\n",
              "<table border=\"1\" class=\"dataframe\">\n",
              "  <thead>\n",
              "    <tr style=\"text-align: right;\">\n",
              "      <th></th>\n",
              "      <th>company</th>\n",
              "      <th>job</th>\n",
              "      <th>degree</th>\n",
              "      <th>company_n</th>\n",
              "      <th>job_n</th>\n",
              "      <th>degree_n</th>\n",
              "    </tr>\n",
              "  </thead>\n",
              "  <tbody>\n",
              "    <tr>\n",
              "      <th>0</th>\n",
              "      <td>google</td>\n",
              "      <td>sales executive</td>\n",
              "      <td>bachelors</td>\n",
              "      <td>2</td>\n",
              "      <td>2</td>\n",
              "      <td>0</td>\n",
              "    </tr>\n",
              "    <tr>\n",
              "      <th>1</th>\n",
              "      <td>google</td>\n",
              "      <td>sales executive</td>\n",
              "      <td>masters</td>\n",
              "      <td>2</td>\n",
              "      <td>2</td>\n",
              "      <td>1</td>\n",
              "    </tr>\n",
              "    <tr>\n",
              "      <th>2</th>\n",
              "      <td>google</td>\n",
              "      <td>business manager</td>\n",
              "      <td>bachelors</td>\n",
              "      <td>2</td>\n",
              "      <td>0</td>\n",
              "      <td>0</td>\n",
              "    </tr>\n",
              "    <tr>\n",
              "      <th>3</th>\n",
              "      <td>google</td>\n",
              "      <td>business manager</td>\n",
              "      <td>masters</td>\n",
              "      <td>2</td>\n",
              "      <td>0</td>\n",
              "      <td>1</td>\n",
              "    </tr>\n",
              "    <tr>\n",
              "      <th>4</th>\n",
              "      <td>google</td>\n",
              "      <td>computer programmer</td>\n",
              "      <td>bachelors</td>\n",
              "      <td>2</td>\n",
              "      <td>1</td>\n",
              "      <td>0</td>\n",
              "    </tr>\n",
              "  </tbody>\n",
              "</table>\n",
              "</div>"
            ],
            "text/plain": [
              "  company                  job     degree  company_n  job_n  degree_n\n",
              "0  google      sales executive  bachelors          2      2         0\n",
              "1  google      sales executive    masters          2      2         1\n",
              "2  google     business manager  bachelors          2      0         0\n",
              "3  google     business manager    masters          2      0         1\n",
              "4  google  computer programmer  bachelors          2      1         0"
            ]
          },
          "metadata": {
            "tags": []
          },
          "execution_count": 10
        }
      ]
    },
    {
      "cell_type": "code",
      "metadata": {
        "id": "jQlbvSm_RdDl",
        "colab_type": "code",
        "colab": {}
      },
      "source": [
        "from sklearn import tree\n",
        "model = tree.DecisionTreeClassifier()"
      ],
      "execution_count": 0,
      "outputs": []
    },
    {
      "cell_type": "code",
      "metadata": {
        "id": "skx7Smj7R6Ff",
        "colab_type": "code",
        "outputId": "02617832-e446-4101-931e-be32ccf0b6a6",
        "colab": {
          "base_uri": "https://localhost:8080/",
          "height": 121
        }
      },
      "source": [
        "# inputs_n area criteria and target is salary_more_then_100k\n",
        "# in the classifier you can change the below - criterion can = entrophy instead gini\n",
        "# DecisionTreeClassifier(class_weight=None, criterion='gini', max_depth=None,\n",
        "         #              max_features=None, max_leaf_nodes=None,\n",
        "          #             min_impurity_decrease=0.0, min_impurity_split=None,\n",
        "           #            min_samples_leaf=1, min_samples_split=2,\n",
        "            #           min_weight_fraction_leaf=0.0, presort=False,\n",
        "             #          random_state=None, splitter='best')\n",
        "\n",
        "model.fit(inputs_n, target)"
      ],
      "execution_count": 0,
      "outputs": [
        {
          "output_type": "execute_result",
          "data": {
            "text/plain": [
              "DecisionTreeClassifier(class_weight=None, criterion='gini', max_depth=None,\n",
              "                       max_features=None, max_leaf_nodes=None,\n",
              "                       min_impurity_decrease=0.0, min_impurity_split=None,\n",
              "                       min_samples_leaf=1, min_samples_split=2,\n",
              "                       min_weight_fraction_leaf=0.0, presort=False,\n",
              "                       random_state=None, splitter='best')"
            ]
          },
          "metadata": {
            "tags": []
          },
          "execution_count": 12
        }
      ]
    },
    {
      "cell_type": "code",
      "metadata": {
        "id": "StHD6q8aR9U1",
        "colab_type": "code",
        "outputId": "4aa68400-0528-4d9b-e466-3becda1a56c8",
        "colab": {
          "base_uri": "https://localhost:8080/",
          "height": 35
        }
      },
      "source": [
        "model.score(inputs_n,target)"
      ],
      "execution_count": 0,
      "outputs": [
        {
          "output_type": "execute_result",
          "data": {
            "text/plain": [
              "1.0"
            ]
          },
          "metadata": {
            "tags": []
          },
          "execution_count": 13
        }
      ]
    },
    {
      "cell_type": "code",
      "metadata": {
        "id": "AU85MnivSX87",
        "colab_type": "code",
        "outputId": "56c169f0-51f8-4635-a231-fdd7c5329d2b",
        "colab": {
          "base_uri": "https://localhost:8080/",
          "height": 35
        }
      },
      "source": [
        "# go to matrix above where you concat the fields with text and numbers to find array values\n",
        "\n",
        "Is salary of Google, Computer Engineer, Bachelors degree > 100 k ?\n",
        "model.predict([[2,1,0]])"
      ],
      "execution_count": 0,
      "outputs": [
        {
          "output_type": "execute_result",
          "data": {
            "text/plain": [
              "array([0])"
            ]
          },
          "metadata": {
            "tags": []
          },
          "execution_count": 14
        }
      ]
    },
    {
      "cell_type": "code",
      "metadata": {
        "id": "obGnOufHS62H",
        "colab_type": "code",
        "colab": {}
      },
      "source": [
        ""
      ],
      "execution_count": 0,
      "outputs": []
    }
  ]
}